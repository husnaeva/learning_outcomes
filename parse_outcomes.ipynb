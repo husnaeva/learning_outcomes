{
 "cells": [
  {
   "cell_type": "code",
   "execution_count": 34,
   "metadata": {},
   "outputs": [],
   "source": [
    "import yaml\n",
    "import pathlib\n",
    "import pandas as pd"
   ]
  },
  {
   "cell_type": "code",
   "execution_count": 35,
   "metadata": {},
   "outputs": [],
   "source": [
    "mdtext = pathlib.Path('Masterlist_Topics_Outcomes.yml').read_text()"
   ]
  },
  {
   "cell_type": "code",
   "execution_count": 36,
   "metadata": {},
   "outputs": [],
   "source": [
    "# Deal with YAML header\n",
    "outcomes = yaml.safe_load(mdtext)"
   ]
  },
  {
   "cell_type": "code",
   "execution_count": 37,
   "metadata": {},
   "outputs": [
    {
     "data": {
      "text/plain": [
       "['Paste un-numbered outcome here', 'Paste un-numbered outcome here']"
      ]
     },
     "execution_count": 37,
     "metadata": {},
     "output_type": "execute_result"
    }
   ],
   "source": [
    "list(outcomes['Math']['Topic Outcome'])"
   ]
  },
  {
   "cell_type": "code",
   "execution_count": 38,
   "metadata": {},
   "outputs": [],
   "source": [
    "topic_counter = 1\n",
    "rows = []\n",
    "\n",
    "for k1,v1 in outcomes.items():\n",
    "    \n",
    "    subtopic_counter = 1\n",
    "    subsubtopic_counter = 1\n",
    "    \n",
    "    for k2,v2 in v1.items():\n",
    "        subsubtopic_counter = 1\n",
    "        try:\n",
    "            for k3,v3 in v2.items():\n",
    "                for v in v3:\n",
    "                    for i,lo in enumerate(v3):\n",
    "                        rows.append([k1,k2,k3,v,'{0}.{1}.{2}.{3}'.format(topic_counter,subtopic_counter,subsubtopic_counter,i)])\n",
    "                        #print(k1+','+k2+',',k3,',',v,',','{0}.{1}.{2}.{3}'.format(topic_counter,subtopic_counter,subsubtopic_counter,i))\n",
    "                subsubtopic_counter += 1\n",
    "        except AttributeError:\n",
    "            for i,lo in enumerate(v2):\n",
    "                rows.append([k1,k2,'',v,'{0}.{1}.{2}.{3}'.format(topic_counter,subtopic_counter,subsubtopic_counter,i)])\n",
    "                #print(k1+','+k2+',','',',',v,',','{0}.{1}.{2}.{3}'.format(topic_counter,subtopic_counter,subsubtopic_counter,i))\n",
    "        subtopic_counter += 1\n",
    "    topic_counter += 1"
   ]
  },
  {
   "cell_type": "code",
   "execution_count": 39,
   "metadata": {},
   "outputs": [],
   "source": [
    "pd.DataFrame.from_records(rows,columns=['Topic','Subtopic','Subsubtopic','Learning Outcome','Code']).to_csv('Masterlist.csv')"
   ]
  },
  {
   "cell_type": "code",
   "execution_count": null,
   "metadata": {},
   "outputs": [],
   "source": []
  }
 ],
 "metadata": {
  "kernelspec": {
   "display_name": "Python 3",
   "language": "python",
   "name": "python3"
  },
  "language_info": {
   "codemirror_mode": {
    "name": "ipython",
    "version": 3
   },
   "file_extension": ".py",
   "mimetype": "text/x-python",
   "name": "python",
   "nbconvert_exporter": "python",
   "pygments_lexer": "ipython3",
   "version": "3.8.3"
  }
 },
 "nbformat": 4,
 "nbformat_minor": 4
}
